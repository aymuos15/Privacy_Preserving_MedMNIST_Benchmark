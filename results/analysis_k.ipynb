{
 "cells": [
  {
   "cell_type": "code",
   "execution_count": 1,
   "metadata": {},
   "outputs": [],
   "source": [
    "import seaborn as sns\n",
    "import matplotlib.pyplot as plt\n",
    "import pandas as pd\n",
    "import glob\n",
    "import sys\n",
    "sys.path.append('/home/localssk23/final_ppai/')\n",
    "from config import CONFIG"
   ]
  },
  {
   "cell_type": "code",
   "execution_count": 3,
   "metadata": {},
   "outputs": [
    {
     "name": "stdout",
     "output_type": "stream",
     "text": [
      "       Dataset  Class  Accuracy       AUC\n",
      "0  breastmnist      0       0.0  0.734962\n",
      "1  breastmnist      1       1.0  0.734962\n",
      "\n",
      "       Dataset  Overall Accuracy  Overall AUC  Balanced Accuracy\n",
      "0  breastmnist          0.730769     0.734962                0.5\n",
      "\n",
      "\n",
      "       Dataset  Class  Accuracy       AUC\n",
      "0  breastmnist      0       0.0  0.751253\n",
      "1  breastmnist      1       1.0  0.751253\n",
      "\n",
      "       Dataset  Overall Accuracy  Overall AUC  Balanced Accuracy\n",
      "0  breastmnist          0.730769     0.751253                0.5\n",
      "\n",
      "\n",
      "       Dataset  Class  Accuracy       AUC\n",
      "0  breastmnist      0       0.0  0.767126\n",
      "1  breastmnist      1       1.0  0.767126\n",
      "\n",
      "       Dataset  Overall Accuracy  Overall AUC  Balanced Accuracy\n",
      "0  breastmnist          0.730769     0.767126                0.5\n",
      "\n",
      "\n"
     ]
    }
   ],
   "source": [
    "cls_result = pd.read_csv('class_results_breastmnist_run0.csv')\n",
    "ovr_result = pd.read_csv('overall_results_breastmnist_run0.csv')\n",
    "\n",
    "print(cls_result)\n",
    "print()\n",
    "print(ovr_result)\n",
    "print()\n",
    "print()\n",
    "\n",
    "cls_result = pd.read_csv('class_results_breastmnist_run1.csv')\n",
    "ovr_result = pd.read_csv('overall_results_breastmnist_run1.csv')\n",
    "\n",
    "print(cls_result)\n",
    "print()\n",
    "print(ovr_result)\n",
    "print()\n",
    "print()\n",
    "\n",
    "cls_result = pd.read_csv('class_results_breastmnist_run2.csv')\n",
    "ovr_result = pd.read_csv('overall_results_breastmnist_run2.csv')\n",
    "\n",
    "print(cls_result)\n",
    "print()\n",
    "print(ovr_result)\n",
    "print()\n",
    "print()"
   ]
  },
  {
   "cell_type": "code",
   "execution_count": null,
   "metadata": {},
   "outputs": [],
   "source": [
    "import pandas as pd\n",
    "import matplotlib.pyplot as plt\n",
    "\n",
    "# Load normal class results\n",
    "normal_results = []\n",
    "for i in range(3):  # Assuming runs 0, 1, 2\n",
    "    cls_result = pd.read_csv(f'class_results_breastmnist_run{i}.csv')\n",
    "    normal_results.append(cls_result)\n",
    "\n",
    "# Load private class results\n",
    "private_results = []\n",
    "for i in range(3):  # Assuming runs 0, 1, 2\n",
    "    cls_result_private = pd.read_csv(f'class_results_breastmnist_run{i}_private.csv')\n",
    "    private_results.append(cls_result_private)"
   ]
  },
  {
   "cell_type": "code",
   "execution_count": null,
   "metadata": {},
   "outputs": [],
   "source": [
    "# Function to calculate std for accuracy and AUC\n",
    "def calculate_std(results):\n",
    "    accuracy_std = []\n",
    "    auc_std = []\n",
    "    \n",
    "    for result in results:\n",
    "        accuracy_std.append(result['Accuracy'].std())\n",
    "        auc_std.append(result['AUC'].std())\n",
    "        \n",
    "    return accuracy_std, auc_std\n",
    "\n",
    "# Calculate std for normal and private results\n",
    "normal_accuracy_std, normal_auc_std = calculate_std(normal_results)\n",
    "private_accuracy_std, private_auc_std = calculate_std(private_results)"
   ]
  },
  {
   "cell_type": "code",
   "execution_count": null,
   "metadata": {},
   "outputs": [
    {
     "name": "stdout",
     "output_type": "stream",
     "text": [
      " Runs  Normal Accuracy Mean  Normal Accuracy Std  Normal AUC Mean  Normal AUC Std  Private Accuracy Mean  Private Accuracy Std  Private AUC Mean  Private AUC Std\n",
      "Run 0                   0.5             0.707107         0.734962    0.000000e+00                    0.5              0.707107          0.697368     1.110223e-16\n",
      "Run 1                   0.5             0.707107         0.751253    1.110223e-16                    0.5              0.707107          0.710317     1.110223e-16\n",
      "Run 2                   0.5             0.707107         0.767126    0.000000e+00                    0.5              0.707107          0.738722     0.000000e+00\n"
     ]
    }
   ],
   "source": [
    "import pandas as pd\n",
    "\n",
    "# Load normal class results\n",
    "normal_results = []\n",
    "for i in range(3):  # Assuming runs 0, 1, 2\n",
    "    cls_result = pd.read_csv(f'class_results_breastmnist_run{i}.csv')\n",
    "    normal_results.append(cls_result)\n",
    "\n",
    "# Load private class results\n",
    "private_results = []\n",
    "for i in range(3):  # Assuming runs 0, 1, 2\n",
    "    cls_result_private = pd.read_csv(f'class_results_breastmnist_run{i}_private.csv')\n",
    "    private_results.append(cls_result_private)\n",
    "\n",
    "# Function to calculate means and stds for accuracy and AUC\n",
    "def calculate_stats(results):\n",
    "    accuracy_mean = []\n",
    "    accuracy_std = []\n",
    "    auc_mean = []\n",
    "    auc_std = []\n",
    "    \n",
    "    for result in results:\n",
    "        accuracy_mean.append(result['Accuracy'].mean())\n",
    "        accuracy_std.append(result['Accuracy'].std())\n",
    "        auc_mean.append(result['AUC'].mean())\n",
    "        auc_std.append(result['AUC'].std())\n",
    "        \n",
    "    return accuracy_mean, accuracy_std, auc_mean, auc_std\n",
    "\n",
    "# Calculate stats for normal and private results\n",
    "normal_accuracy_mean, normal_accuracy_std, normal_auc_mean, normal_auc_std = calculate_stats(normal_results)\n",
    "private_accuracy_mean, private_accuracy_std, private_auc_mean, private_auc_std = calculate_stats(private_results)\n",
    "\n",
    "# Prepare data for printing\n",
    "runs = ['Run 0', 'Run 1', 'Run 2']\n",
    "stats_data = {\n",
    "    'Runs': runs,\n",
    "    'Normal Accuracy Mean': normal_accuracy_mean,\n",
    "    'Normal Accuracy Std': normal_accuracy_std,\n",
    "    'Normal AUC Mean': normal_auc_mean,\n",
    "    'Normal AUC Std': normal_auc_std,\n",
    "    'Private Accuracy Mean': private_accuracy_mean,\n",
    "    'Private Accuracy Std': private_accuracy_std,\n",
    "    'Private AUC Mean': private_auc_mean,\n",
    "    'Private AUC Std': private_auc_std,\n",
    "}\n",
    "\n",
    "stats_df = pd.DataFrame(stats_data)\n",
    "\n",
    "# Print the resulting DataFrame\n",
    "print(stats_df.to_string(index=False))"
   ]
  },
  {
   "cell_type": "code",
   "execution_count": null,
   "metadata": {},
   "outputs": [],
   "source": []
  }
 ],
 "metadata": {
  "kernelspec": {
   "display_name": "cucim",
   "language": "python",
   "name": "python3"
  },
  "language_info": {
   "codemirror_mode": {
    "name": "ipython",
    "version": 3
   },
   "file_extension": ".py",
   "mimetype": "text/x-python",
   "name": "python",
   "nbconvert_exporter": "python",
   "pygments_lexer": "ipython3",
   "version": "3.8.19"
  }
 },
 "nbformat": 4,
 "nbformat_minor": 2
}
